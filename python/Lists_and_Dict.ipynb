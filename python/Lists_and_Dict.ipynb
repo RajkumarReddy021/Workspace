{
 "cells": [
  {
   "cell_type": "code",
   "execution_count": 5,
   "id": "85a41131-36b8-4f50-9082-4c5b06f3fb30",
   "metadata": {},
   "outputs": [
    {
     "data": {
      "text/plain": [
       "3"
      ]
     },
     "execution_count": 5,
     "metadata": {},
     "output_type": "execute_result"
    }
   ],
   "source": [
    "my_list = ['string', 1, 2.5]\n",
    "len(my_list)"
   ]
  },
  {
   "cell_type": "code",
   "execution_count": 13,
   "id": "08b27c1c-0a54-4876-8e8c-e2711c693aa0",
   "metadata": {},
   "outputs": [
    {
     "data": {
      "text/plain": [
       "'two'"
      ]
     },
     "execution_count": 13,
     "metadata": {},
     "output_type": "execute_result"
    }
   ],
   "source": [
    "my_list = ['one', 'two', 'three']\n",
    "my_list[1]"
   ]
  },
  {
   "cell_type": "code",
   "execution_count": 11,
   "id": "f66c876a-325c-4a0e-9d94-d952c53c48dd",
   "metadata": {},
   "outputs": [
    {
     "data": {
      "text/plain": [
       "['two', 'three']"
      ]
     },
     "execution_count": 11,
     "metadata": {},
     "output_type": "execute_result"
    }
   ],
   "source": [
    "my_list[1:]"
   ]
  },
  {
   "cell_type": "code",
   "execution_count": 44,
   "id": "970246c0-9a86-41aa-86f4-eb24b71fba3a",
   "metadata": {},
   "outputs": [
    {
     "name": "stdout",
     "output_type": "stream",
     "text": [
      "[1, 2, 4, 1]\n"
     ]
    }
   ],
   "source": [
    "new_list = ['a','c', 'b', 'c']\n",
    "num_list = [1,4,2,1]"
   ]
  },
  {
   "cell_type": "code",
   "execution_count": 46,
   "id": "7687904d-518f-4e59-a84d-a4b9fc43948a",
   "metadata": {},
   "outputs": [
    {
     "name": "stdout",
     "output_type": "stream",
     "text": [
      "['a', 'b', 'c', 'c']\n",
      "['a', 'b', 'c', 'c']\n",
      "[1, 4, 2, 1]\n"
     ]
    }
   ],
   "source": [
    "new_list.sort()\n",
    "my_sorted_list = new_list.sort() # it will not accept the sort\n",
    "my_sorted_list = new_list \n",
    "print(my_sorted_list)\n",
    "print(new_list)\n",
    "num_list.reverse()\n",
    "print(num_list)"
   ]
  },
  {
   "cell_type": "code",
   "execution_count": 58,
   "id": "5f43a94d-b2b3-4ef4-bd9d-436374976cd9",
   "metadata": {},
   "outputs": [
    {
     "data": {
      "text/plain": [
       "'apple'"
      ]
     },
     "execution_count": 58,
     "metadata": {},
     "output_type": "execute_result"
    }
   ],
   "source": [
    "# Dictionaries\n",
    " # Unordered and cannot be Sorted\n",
    " # Keys should be string\n",
    "my_dict = {'a' : 'apple', 'o': 'orange', 'p': 'pineapple'}\n",
    "my_dict ['a']"
   ]
  },
  {
   "cell_type": "code",
   "execution_count": 60,
   "id": "89025c97-8d5e-4acf-8b5e-67661856029e",
   "metadata": {},
   "outputs": [
    {
     "data": {
      "text/plain": [
       "200"
      ]
     },
     "execution_count": 60,
     "metadata": {},
     "output_type": "execute_result"
    }
   ],
   "source": [
    "prices_lookup = {'apple' : 200, 'orange': 150, 'pineapple': 70} \n",
    "prices_lookup['apple']"
   ]
  },
  {
   "cell_type": "code",
   "execution_count": 78,
   "id": "9670a741-d1bc-4d34-873e-02dbd328c2e7",
   "metadata": {},
   "outputs": [
    {
     "data": {
      "text/plain": [
       "{'inside_key': 100}"
      ]
     },
     "execution_count": 78,
     "metadata": {},
     "output_type": "execute_result"
    }
   ],
   "source": [
    "d = {'k1':420, 'k2':[1,2,3], 'k3': {'inside_key': 100}}\n",
    "d['k3']"
   ]
  },
  {
   "cell_type": "code",
   "execution_count": 80,
   "id": "ce2a17e4-a899-459f-ba9d-fb6dcff7556b",
   "metadata": {},
   "outputs": [
    {
     "data": {
      "text/plain": [
       "100"
      ]
     },
     "execution_count": 80,
     "metadata": {},
     "output_type": "execute_result"
    }
   ],
   "source": [
    "d['k3']['inside_key']"
   ]
  },
  {
   "cell_type": "code",
   "execution_count": 86,
   "id": "55337bf9-845d-45a7-87b8-8acddad720de",
   "metadata": {},
   "outputs": [
    {
     "data": {
      "text/plain": [
       "'C'"
      ]
     },
     "execution_count": 86,
     "metadata": {},
     "output_type": "execute_result"
    }
   ],
   "source": [
    "my_dict = {'key1': ['a','b','c'] }\n",
    "my_dict['key1'][2].upper()"
   ]
  },
  {
   "cell_type": "code",
   "execution_count": 94,
   "id": "7f8547c4-b127-42d4-8b25-dc442b257ff1",
   "metadata": {},
   "outputs": [
    {
     "name": "stdout",
     "output_type": "stream",
     "text": [
      "{'k1': 100, 'k2': 200}\n",
      "{'k1': 100, 'k2': 200, 'k3': 200}\n"
     ]
    },
    {
     "data": {
      "text/plain": [
       "{'k1': 50, 'k2': 200, 'k3': 200}"
      ]
     },
     "execution_count": 94,
     "metadata": {},
     "output_type": "execute_result"
    }
   ],
   "source": [
    "d = {'k1':100, 'k2': 200}\n",
    "print(d)\n",
    "d['k3'] = 200\n",
    "print(d)\n",
    "d['k1'] = 50\n",
    "d"
   ]
  },
  {
   "cell_type": "code",
   "execution_count": 96,
   "id": "bc8ed2f5-d475-4192-bf5e-981ebe9f4862",
   "metadata": {},
   "outputs": [
    {
     "data": {
      "text/plain": [
       "dict_keys(['k1', 'k2', 'k3'])"
      ]
     },
     "execution_count": 96,
     "metadata": {},
     "output_type": "execute_result"
    }
   ],
   "source": [
    "d.keys()"
   ]
  },
  {
   "cell_type": "code",
   "execution_count": 98,
   "id": "1a76ba30-0392-4cc3-91f4-a51f2ac6aa90",
   "metadata": {},
   "outputs": [
    {
     "data": {
      "text/plain": [
       "dict_values([50, 200, 200])"
      ]
     },
     "execution_count": 98,
     "metadata": {},
     "output_type": "execute_result"
    }
   ],
   "source": [
    "d.values()"
   ]
  },
  {
   "cell_type": "code",
   "execution_count": 100,
   "id": "de4b7f09-a23c-4385-83dd-4dde8476541a",
   "metadata": {},
   "outputs": [
    {
     "data": {
      "text/plain": [
       "dict_items([('k1', 50), ('k2', 200), ('k3', 200)])"
      ]
     },
     "execution_count": 100,
     "metadata": {},
     "output_type": "execute_result"
    }
   ],
   "source": [
    "d.items()"
   ]
  }
 ],
 "metadata": {
  "kernelspec": {
   "display_name": "Python 3 (ipykernel)",
   "language": "python",
   "name": "python3"
  },
  "language_info": {
   "codemirror_mode": {
    "name": "ipython",
    "version": 3
   },
   "file_extension": ".py",
   "mimetype": "text/x-python",
   "name": "python",
   "nbconvert_exporter": "python",
   "pygments_lexer": "ipython3",
   "version": "3.12.7"
  }
 },
 "nbformat": 4,
 "nbformat_minor": 5
}
