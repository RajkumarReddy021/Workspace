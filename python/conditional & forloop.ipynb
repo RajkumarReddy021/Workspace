{
 "cells": [
  {
   "cell_type": "code",
   "execution_count": 3,
   "id": "db91bec4-22dc-474e-a4d3-52be386387e9",
   "metadata": {},
   "outputs": [
    {
     "name": "stdout",
     "output_type": "stream",
     "text": [
      "Iam Excecured from if block\n"
     ]
    }
   ],
   "source": [
    "## If Else \n",
    "a = 1\n",
    "if True:\n",
    "    print('Iam Excecuted from if block')"
   ]
  },
  {
   "cell_type": "code",
   "execution_count": 9,
   "id": "14f4fe4b-4046-49f8-a720-41b95e0aefce",
   "metadata": {},
   "outputs": [
    {
     "name": "stdout",
     "output_type": "stream",
     "text": [
      "Higher than a\n"
     ]
    }
   ],
   "source": [
    "if a < 10:\n",
    "    print(\"Higher than a\")"
   ]
  },
  {
   "cell_type": "code",
   "execution_count": 23,
   "id": "2ab0bf8a-76f9-4ff8-9ca1-01a6fc8386f2",
   "metadata": {},
   "outputs": [
    {
     "name": "stdout",
     "output_type": "stream",
     "text": [
      "not hungry\n"
     ]
    }
   ],
   "source": [
    "hungry = False \n",
    "if hungry:\n",
    "    print('feed me ')\n",
    "else: \n",
    "    print('not hungry')"
   ]
  },
  {
   "cell_type": "code",
   "execution_count": 25,
   "id": "3691b504-71ec-46af-8c42-11811c22597e",
   "metadata": {},
   "outputs": [
    {
     "name": "stdout",
     "output_type": "stream",
     "text": [
      "money money loans\n"
     ]
    }
   ],
   "source": [
    "loc = 'bank'\n",
    "if loc == 'auto_shop':\n",
    "    print('buy parts')\n",
    "elif loc == 'bank':\n",
    "    print('money money loans')\n",
    "else:\n",
    "    print('Nothing to do')"
   ]
  },
  {
   "cell_type": "code",
   "execution_count": 27,
   "id": "b198abb5-7b82-4c68-9a14-a5d8c04567a6",
   "metadata": {},
   "outputs": [],
   "source": [
    "## LOOPS"
   ]
  },
  {
   "cell_type": "code",
   "execution_count": 30,
   "id": "d9fc2ec0-ecfb-435a-a2ad-ddb759d0127c",
   "metadata": {},
   "outputs": [],
   "source": [
    "# For loop\n",
    "mylist = [1,2,3,4,5,6,7]"
   ]
  },
  {
   "cell_type": "code",
   "execution_count": 44,
   "id": "9f8d96e9-b987-4395-a517-71f46afe7be1",
   "metadata": {},
   "outputs": [
    {
     "name": "stdout",
     "output_type": "stream",
     "text": [
      "1\n",
      "2\n",
      "3\n",
      "4\n",
      "5\n",
      "6\n",
      "7\n"
     ]
    }
   ],
   "source": [
    "for num in mylist:\n",
    "    print(num)"
   ]
  },
  {
   "cell_type": "code",
   "execution_count": 46,
   "id": "74d35f36-a9fd-497d-bcfe-274956642342",
   "metadata": {},
   "outputs": [
    {
     "name": "stdout",
     "output_type": "stream",
     "text": [
      "1 2 3 4 5 6 7 "
     ]
    }
   ],
   "source": [
    "for num in mylist:\n",
    "    print(num, end = ' ')"
   ]
  },
  {
   "cell_type": "code",
   "execution_count": 111,
   "id": "e2080529-80ef-431e-9f12-7324e609b0a4",
   "metadata": {},
   "outputs": [
    {
     "name": "stdout",
     "output_type": "stream",
     "text": [
      "2\n",
      "4\n",
      "6\n",
      "oddnumbers [1, 3, 5, 7]\n"
     ]
    }
   ],
   "source": [
    "a = []\n",
    "for num in mylist:\n",
    "    if num%2 == 0:\n",
    "        print(num)\n",
    "    else:\n",
    "        a=a+[num]\n",
    "print(f'oddnumbers {a}')"
   ]
  },
  {
   "cell_type": "code",
   "execution_count": 113,
   "id": "bb57198e-22d3-4104-aede-511cf1f5a98e",
   "metadata": {},
   "outputs": [
    {
     "name": "stdout",
     "output_type": "stream",
     "text": [
      "A\n",
      "p\n",
      "p\n",
      "l\n",
      "e\n"
     ]
    }
   ],
   "source": [
    "my_str = 'Apple'\n",
    "for letter in my_str:\n",
    "    print(letter)"
   ]
  },
  {
   "cell_type": "code",
   "execution_count": 121,
   "id": "4ab75fb0-0748-4da4-ad32-521b1574cd9c",
   "metadata": {},
   "outputs": [
    {
     "name": "stdout",
     "output_type": "stream",
     "text": [
      "S\n",
      "t\n",
      "r\n",
      "i\n",
      "n\n",
      "g\n"
     ]
    }
   ],
   "source": [
    "for letter in \"String\":\n",
    "    print(letter)"
   ]
  },
  {
   "cell_type": "code",
   "execution_count": 123,
   "id": "37217ea2-b3bb-4039-af6d-edbc3b3f2833",
   "metadata": {},
   "outputs": [
    {
     "name": "stdout",
     "output_type": "stream",
     "text": [
      "Iterated\n",
      "Iterated\n",
      "Iterated\n",
      "Iterated\n",
      "Iterated\n",
      "Iterated\n"
     ]
    }
   ],
   "source": [
    "for _ in \"string\":\n",
    "    print(\"Iterated\")"
   ]
  },
  {
   "cell_type": "code",
   "execution_count": 125,
   "id": "95960eef-c24f-485b-8b74-9fb6e6af8f56",
   "metadata": {},
   "outputs": [
    {
     "name": "stdout",
     "output_type": "stream",
     "text": [
      "(1, 2)\n",
      "(3, 4)\n",
      "(7, 8)\n"
     ]
    }
   ],
   "source": [
    "mylist = [(1,2), (3,4), (7,8)]    ## List of tuples \n",
    "for item in mylist:\n",
    "    print(item)"
   ]
  },
  {
   "cell_type": "code",
   "execution_count": 133,
   "id": "a8ab8578-3e8d-4251-98ef-db7545a723bf",
   "metadata": {},
   "outputs": [
    {
     "name": "stdout",
     "output_type": "stream",
     "text": [
      "1\n",
      "2\n",
      "3\n",
      "4\n",
      "7\n",
      "8\n"
     ]
    }
   ],
   "source": [
    "for a,b in mylist:     ## Tuple Unpacking\n",
    "    print(a)\n",
    "    print(b)"
   ]
  },
  {
   "cell_type": "code",
   "execution_count": 135,
   "id": "b7ed99e5-73d1-42c3-86fa-662d828d77aa",
   "metadata": {},
   "outputs": [
    {
     "name": "stdout",
     "output_type": "stream",
     "text": [
      "k1\n",
      "k2\n",
      "k3\n"
     ]
    }
   ],
   "source": [
    " d = {'k1': 1, 'k2': 2, 'k3': 3}    ## Dictionary\n",
    "for items in d:\n",
    "    print(items)"
   ]
  },
  {
   "cell_type": "code",
   "execution_count": 151,
   "id": "91e934cb-3e7e-4e0f-aec3-a6240bef8cd5",
   "metadata": {},
   "outputs": [
    {
     "name": "stdout",
     "output_type": "stream",
     "text": [
      "k1\n",
      "1\n",
      "k2\n",
      "2\n",
      "k3\n",
      "3\n"
     ]
    }
   ],
   "source": [
    "for key,value in d.items():\n",
    "    print(key)\n",
    "    print(value)"
   ]
  },
  {
   "cell_type": "code",
   "execution_count": 155,
   "id": "b7fffc7a-987d-4fe6-9437-74b6f4dcbde4",
   "metadata": {},
   "outputs": [
    {
     "name": "stdout",
     "output_type": "stream",
     "text": [
      "1\n",
      "2\n",
      "3\n"
     ]
    }
   ],
   "source": [
    "for value in d.values():\n",
    "    print(value)"
   ]
  },
  {
   "cell_type": "code",
   "execution_count": null,
   "id": "9656ea7c-cc7a-45aa-adbc-47366c5e64f0",
   "metadata": {},
   "outputs": [],
   "source": []
  }
 ],
 "metadata": {
  "kernelspec": {
   "display_name": "Python 3 (ipykernel)",
   "language": "python",
   "name": "python3"
  },
  "language_info": {
   "codemirror_mode": {
    "name": "ipython",
    "version": 3
   },
   "file_extension": ".py",
   "mimetype": "text/x-python",
   "name": "python",
   "nbconvert_exporter": "python",
   "pygments_lexer": "ipython3",
   "version": "3.12.7"
  }
 },
 "nbformat": 4,
 "nbformat_minor": 5
}
