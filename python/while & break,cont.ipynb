{
 "cells": [
  {
   "cell_type": "code",
   "execution_count": 3,
   "id": "5000e8fd-0fc2-4af4-bd42-8e3d5d7f0dbe",
   "metadata": {},
   "outputs": [
    {
     "name": "stdout",
     "output_type": "stream",
     "text": [
      "x is not lessthan 5\n"
     ]
    }
   ],
   "source": [
    "x = 100\n",
    "while x <5:\n",
    "    print(f'Current value of x is {x}')\n",
    "    x+=1\n",
    "else:\n",
    "    print('x is not lessthan 5')"
   ]
  },
  {
   "cell_type": "code",
   "execution_count": 13,
   "id": "fea902ea-f546-4cd4-be66-fcf362e0c998",
   "metadata": {},
   "outputs": [
    {
     "name": "stdout",
     "output_type": "stream",
     "text": [
      "end of script\n"
     ]
    }
   ],
   "source": [
    "x = [1,2,3,4]     ## pass (Keyword)\n",
    "for item in x:\n",
    "    pass\n",
    "print('end of script')\n",
    "    "
   ]
  },
  {
   "cell_type": "code",
   "execution_count": 23,
   "id": "f76dac35-c754-4f87-900d-413a75ea6609",
   "metadata": {},
   "outputs": [
    {
     "name": "stdout",
     "output_type": "stream",
     "text": [
      "T\n",
      "n\n",
      "y\n"
     ]
    }
   ],
   "source": [
    "mystr = \"Tony\"                ## Continue \n",
    "for letter in mystr:\n",
    "    if letter == 'o':\n",
    "        continue \n",
    "    print(letter)"
   ]
  },
  {
   "cell_type": "code",
   "execution_count": 27,
   "id": "ca0eecbc-9270-44d4-8185-cefe28921a96",
   "metadata": {},
   "outputs": [
    {
     "name": "stdout",
     "output_type": "stream",
     "text": [
      "T\n"
     ]
    }
   ],
   "source": [
    "for letter in mystr:        ## break\n",
    "    if letter == 'o':\n",
    "        break\n",
    "    print(letter)"
   ]
  },
  {
   "cell_type": "code",
   "execution_count": 33,
   "id": "66ebec80-ecd8-4c3c-94d6-a30588ef7cbd",
   "metadata": {},
   "outputs": [
    {
     "name": "stdout",
     "output_type": "stream",
     "text": [
      "0\n",
      "1\n",
      "2\n"
     ]
    }
   ],
   "source": [
    "x = 0\n",
    "while x <5:\n",
    "    if x ==3:\n",
    "        break\n",
    "    print(x)\n",
    "    x+=1"
   ]
  },
  {
   "cell_type": "code",
   "execution_count": null,
   "id": "027945ae-7f2e-4099-a08f-3524b1893076",
   "metadata": {},
   "outputs": [],
   "source": []
  }
 ],
 "metadata": {
  "kernelspec": {
   "display_name": "Python 3 (ipykernel)",
   "language": "python",
   "name": "python3"
  },
  "language_info": {
   "codemirror_mode": {
    "name": "ipython",
    "version": 3
   },
   "file_extension": ".py",
   "mimetype": "text/x-python",
   "name": "python",
   "nbconvert_exporter": "python",
   "pygments_lexer": "ipython3",
   "version": "3.12.7"
  }
 },
 "nbformat": 4,
 "nbformat_minor": 5
}
