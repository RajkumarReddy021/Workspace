{
 "cells": [
  {
   "cell_type": "code",
   "execution_count": 22,
   "id": "50aa14cd-b0e9-40cf-9818-44a0955575f8",
   "metadata": {},
   "outputs": [
    {
     "name": "stdout",
     "output_type": "stream",
     "text": [
      "Overwriting myfile.txt\n"
     ]
    }
   ],
   "source": [
    " %%writefile myfile.txt\n",
    " This is First line \n",
    " iam  second line"
   ]
  },
  {
   "cell_type": "code",
   "execution_count": 24,
   "id": "bbc20075-2bc4-465c-b8ef-3dc85be788b0",
   "metadata": {},
   "outputs": [
    {
     "name": "stdout",
     "output_type": "stream",
     "text": [
      "<_io.TextIOWrapper name='myfile.txt' mode='r' encoding='cp1252'>\n"
     ]
    }
   ],
   "source": [
    "myfile = open(\"myfile.txt\")\n",
    "print(myfile)"
   ]
  },
  {
   "cell_type": "code",
   "execution_count": 26,
   "id": "715e9ce9-5a89-4fcd-a140-0a6d142e85c0",
   "metadata": {},
   "outputs": [
    {
     "ename": "SyntaxError",
     "evalue": "invalid syntax (3680893761.py, line 1)",
     "output_type": "error",
     "traceback": [
      "\u001b[1;36m  Cell \u001b[1;32mIn[26], line 1\u001b[1;36m\u001b[0m\n\u001b[1;33m    myfile = open(\"test.txt\") the witten file should be in the notebook directory or cureent working 3333\u001b[0m\n\u001b[1;37m                              ^\u001b[0m\n\u001b[1;31mSyntaxError\u001b[0m\u001b[1;31m:\u001b[0m invalid syntax\n"
     ]
    }
   ],
   "source": [
    "myfile = open(\"test.txt\") the witten file should be in the notebook directory or cureent working directory."
   ]
  },
  {
   "cell_type": "code",
   "execution_count": 20,
   "id": "7155e4d6-8f21-4be6-9434-d76f6816c062",
   "metadata": {},
   "outputs": [
    {
     "data": {
      "text/plain": [
       "'This is First line \\niam  second line\\n'"
      ]
     },
     "execution_count": 20,
     "metadata": {},
     "output_type": "execute_result"
    }
   ],
   "source": [
    "myfile.read()"
   ]
  },
  {
   "cell_type": "code",
   "execution_count": 28,
   "id": "d8dfcbec-2c12-434c-b4bd-be8507a7a770",
   "metadata": {},
   "outputs": [
    {
     "data": {
      "text/plain": [
       "'This is First line \\niam  second line\\n'"
      ]
     },
     "execution_count": 28,
     "metadata": {},
     "output_type": "execute_result"
    }
   ],
   "source": [
    "myfile.read()"
   ]
  },
  {
   "cell_type": "code",
   "execution_count": 30,
   "id": "17802ab2-bed1-45fc-9282-b46b750802de",
   "metadata": {},
   "outputs": [
    {
     "data": {
      "text/plain": [
       "''"
      ]
     },
     "execution_count": 30,
     "metadata": {},
     "output_type": "execute_result"
    }
   ],
   "source": [
    "myfile.read()"
   ]
  },
  {
   "cell_type": "code",
   "execution_count": 34,
   "id": "e0bc6ea0-5ca6-4d74-a247-033667c2bcc9",
   "metadata": {},
   "outputs": [
    {
     "data": {
      "text/plain": [
       "0"
      ]
     },
     "execution_count": 34,
     "metadata": {},
     "output_type": "execute_result"
    }
   ],
   "source": [
    "myfile.seek(0)"
   ]
  },
  {
   "cell_type": "code",
   "execution_count": 36,
   "id": "35ed2c36-9b38-4b9a-9726-28d3e36602d9",
   "metadata": {},
   "outputs": [
    {
     "data": {
      "text/plain": [
       "'This is First line \\niam  second line\\n'"
      ]
     },
     "execution_count": 36,
     "metadata": {},
     "output_type": "execute_result"
    }
   ],
   "source": [
    "myfile.read() ## if we wnant to read again same file we should reset using seek."
   ]
  },
  {
   "cell_type": "code",
   "execution_count": 50,
   "id": "d3d2036f-28a8-43f0-b7ea-dadb1f29a011",
   "metadata": {},
   "outputs": [
    {
     "data": {
      "text/plain": [
       "0"
      ]
     },
     "execution_count": 50,
     "metadata": {},
     "output_type": "execute_result"
    }
   ],
   "source": [
    "myfile.seek(0)"
   ]
  },
  {
   "cell_type": "code",
   "execution_count": 52,
   "id": "54410010-9e4c-4119-a06f-aebde41383af",
   "metadata": {},
   "outputs": [
    {
     "data": {
      "text/plain": [
       "['This is First line \\n', 'iam  second line\\n']"
      ]
     },
     "execution_count": 52,
     "metadata": {},
     "output_type": "execute_result"
    }
   ],
   "source": [
    "myfile.readlines()"
   ]
  },
  {
   "cell_type": "code",
   "execution_count": 54,
   "id": "dab81eb7-5793-46b9-81ea-e7a3c1f47446",
   "metadata": {},
   "outputs": [],
   "source": [
    "myfile.close() ## after work is done manually we need to cloise the files"
   ]
  },
  {
   "cell_type": "code",
   "execution_count": 100,
   "id": "0bbf0365-7806-4f22-ad18-98c694455a3b",
   "metadata": {},
   "outputs": [],
   "source": [
    "with open('myfile.txt') as my_new_file:\n",
    "    content = my_new_file.read()"
   ]
  },
  {
   "cell_type": "code",
   "execution_count": 110,
   "id": "1faa6c41-3b92-4be5-8661-27667aa1d1d1",
   "metadata": {},
   "outputs": [],
   "source": [
    "## use Shift+tab by keeping cursor inside brackets.\n",
    "with open('myfile.txt', mode = 'r') as new_file:   \n",
    "    contents = new_file.read()"
   ]
  },
  {
   "cell_type": "code",
   "execution_count": 112,
   "id": "beea01e7-ca8a-402d-97a1-558248114350",
   "metadata": {},
   "outputs": [
    {
     "name": "stdout",
     "output_type": "stream",
     "text": [
      "Writing testfile.txt\n"
     ]
    }
   ],
   "source": [
    "%%writefile testfile.txt\n",
    "Iam Apple "
   ]
  },
  {
   "cell_type": "code",
   "execution_count": 114,
   "id": "1b0bb385-8251-4a29-b48d-a8f9d049dd73",
   "metadata": {},
   "outputs": [
    {
     "name": "stdout",
     "output_type": "stream",
     "text": [
      "Overwriting testfile.txt\n"
     ]
    }
   ],
   "source": [
    "%%writefile testfile.txt  ## It will overwrite the  previously created file\n",
    "Iam Orange i think apple delted now "
   ]
  },
  {
   "cell_type": "code",
   "execution_count": 128,
   "id": "d30903b0-f628-409a-b842-3e806f7d8758",
   "metadata": {},
   "outputs": [
    {
     "name": "stdout",
     "output_type": "stream",
     "text": [
      "Iam Orange i think apple delted now \n",
      "\n"
     ]
    }
   ],
   "source": [
    "with open('testfile.txt', mode = 'r') as f:\n",
    "    print(f.read())"
   ]
  },
  {
   "cell_type": "code",
   "execution_count": 134,
   "id": "54af8dab-cd75-421f-b15c-2f2ce6a275ab",
   "metadata": {},
   "outputs": [],
   "source": [
    "with open(\"testfile.txt\", mode = 'a' ) as f:   ## Append to file\n",
    "    f.write(\"aplle comes back using Append mode \")"
   ]
  },
  {
   "cell_type": "code",
   "execution_count": 138,
   "id": "cfd34421-21c2-4b36-b258-ba5cbfb567e6",
   "metadata": {},
   "outputs": [
    {
     "name": "stdout",
     "output_type": "stream",
     "text": [
      "Iam Orange i think apple delted now \n",
      "aplle comes back using Append mode \n"
     ]
    }
   ],
   "source": [
    "with open(\"testfile.txt\", mode = 'r') as f: \n",
    "    print(f.read())"
   ]
  },
  {
   "cell_type": "code",
   "execution_count": 1,
   "id": "de5e4290-66c8-4675-b348-4e544c4ea201",
   "metadata": {},
   "outputs": [
    {
     "data": {
      "text/plain": [
       "'C:\\\\Users\\\\rajku'"
      ]
     },
     "execution_count": 1,
     "metadata": {},
     "output_type": "execute_result"
    }
   ],
   "source": [
    "pwd"
   ]
  },
  {
   "cell_type": "code",
   "execution_count": null,
   "id": "465375a9-93a2-4596-8d43-9688d2f00d45",
   "metadata": {},
   "outputs": [],
   "source": []
  }
 ],
 "metadata": {
  "kernelspec": {
   "display_name": "Python 3 (ipykernel)",
   "language": "python",
   "name": "python3"
  },
  "language_info": {
   "codemirror_mode": {
    "name": "ipython",
    "version": 3
   },
   "file_extension": ".py",
   "mimetype": "text/x-python",
   "name": "python",
   "nbconvert_exporter": "python",
   "pygments_lexer": "ipython3",
   "version": "3.12.7"
  }
 },
 "nbformat": 4,
 "nbformat_minor": 5
}
