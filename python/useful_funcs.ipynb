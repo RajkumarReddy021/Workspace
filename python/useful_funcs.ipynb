{
 "cells": [
  {
   "cell_type": "code",
   "execution_count": 3,
   "id": "37550b76-3dca-44d6-8e26-074a0bc7a6ea",
   "metadata": {},
   "outputs": [
    {
     "name": "stdout",
     "output_type": "stream",
     "text": [
      "1\n",
      "2\n",
      "3\n",
      "4\n",
      "5\n",
      "6\n",
      "7\n",
      "8\n",
      "9\n"
     ]
    }
   ],
   "source": [
    "for num in range(1,10):   ## range function \n",
    "    print(num)"
   ]
  },
  {
   "cell_type": "code",
   "execution_count": 5,
   "id": "9f47df3d-ad60-4f57-8304-e9fda7ff0a1f",
   "metadata": {},
   "outputs": [
    {
     "name": "stdout",
     "output_type": "stream",
     "text": [
      "1\n",
      "3\n",
      "5\n",
      "7\n",
      "9\n"
     ]
    }
   ],
   "source": [
    "for num in range(1,10,2):\n",
    "    print(num)"
   ]
  },
  {
   "cell_type": "code",
   "execution_count": 13,
   "id": "7300e9c1-4f21-4406-8cac-b095908d3063",
   "metadata": {},
   "outputs": [
    {
     "data": {
      "text/plain": [
       "[1, 5, 9]"
      ]
     },
     "execution_count": 13,
     "metadata": {},
     "output_type": "execute_result"
    }
   ],
   "source": [
    "list (range(1,10,4))"
   ]
  },
  {
   "cell_type": "code",
   "execution_count": 19,
   "id": "d699b675-93b7-46c3-aac1-430c91b330d7",
   "metadata": {},
   "outputs": [
    {
     "name": "stdout",
     "output_type": "stream",
     "text": [
      "At index 0 the letter is A\n",
      "At index 1 the letter is s\n",
      "At index 2 the letter is h\n",
      "At index 3 the letter is e\n",
      "At index 4 the letter is s\n"
     ]
    }
   ],
   "source": [
    "index_count = 0\n",
    "for letter in \"Ashes\":\n",
    "    print('At index {} the letter is {}'.format(index_count,letter))\n",
    "    index_count+=1"
   ]
  },
  {
   "cell_type": "code",
   "execution_count": 27,
   "id": "c50d503b-aea9-4304-aeff-73d4e027adae",
   "metadata": {},
   "outputs": [
    {
     "name": "stdout",
     "output_type": "stream",
     "text": [
      "(0, 'a')\n",
      "(1, 'p')\n",
      "(2, 'p')\n",
      "(3, 'l')\n",
      "(4, 'e')\n"
     ]
    }
   ],
   "source": [
    "word = \"apple\"                         ## Enumerate function\n",
    "for letter in enumerate(word):\n",
    "    print(letter)"
   ]
  },
  {
   "cell_type": "code",
   "execution_count": 37,
   "id": "e61e6c6b-c882-45d7-ba38-7372765f99ea",
   "metadata": {},
   "outputs": [
    {
     "name": "stdout",
     "output_type": "stream",
     "text": [
      "0\n",
      "a\n",
      "\n",
      "\n",
      "1\n",
      "p\n",
      "\n",
      "\n",
      "2\n",
      "p\n",
      "\n",
      "\n",
      "3\n",
      "l\n",
      "\n",
      "\n",
      "4\n",
      "e\n",
      "\n",
      "\n"
     ]
    }
   ],
   "source": [
    "for index, letter in enumerate(word):\n",
    "    print(index)\n",
    "    print(letter)\n",
    "    print('\\n')"
   ]
  },
  {
   "cell_type": "code",
   "execution_count": 45,
   "id": "24e02a97-3a97-47b1-8637-cb109d7d3b40",
   "metadata": {},
   "outputs": [
    {
     "name": "stdout",
     "output_type": "stream",
     "text": [
      "(1, 'a')\n",
      "(2, 'b')\n",
      "(3, 'c')\n",
      "(4, 'd')\n"
     ]
    }
   ],
   "source": [
    "mylist1 = [1,2,3,4,5]                      ## Zip function \n",
    "mylist2 = ['a','b','c','d']\n",
    "my_list3 = []\n",
    "for item in zip(mylist1, mylist2):\n",
    "    print(item)\n"
   ]
  },
  {
   "cell_type": "code",
   "execution_count": 47,
   "id": "86f57aef-0646-46be-8c46-42156eb8910e",
   "metadata": {},
   "outputs": [
    {
     "data": {
      "text/plain": [
       "[(1, 'a'), (2, 'b'), (3, 'c'), (4, 'd')]"
      ]
     },
     "execution_count": 47,
     "metadata": {},
     "output_type": "execute_result"
    }
   ],
   "source": [
    "list(zip(mylist1,mylist2))"
   ]
  },
  {
   "cell_type": "code",
   "execution_count": 49,
   "id": "4c2d69eb-abfe-4fdb-8fc6-2d1270851371",
   "metadata": {},
   "outputs": [
    {
     "data": {
      "text/plain": [
       "True"
      ]
     },
     "execution_count": 49,
     "metadata": {},
     "output_type": "execute_result"
    }
   ],
   "source": [
    " 'a' in \"asia\"    ## In Keyword"
   ]
  },
  {
   "cell_type": "code",
   "execution_count": 57,
   "id": "6fe9ce0e-7048-4de5-a270-b9bea42981f6",
   "metadata": {},
   "outputs": [
    {
     "data": {
      "text/plain": [
       "True"
      ]
     },
     "execution_count": 57,
     "metadata": {},
     "output_type": "execute_result"
    }
   ],
   "source": [
    "d = {'k1' : 23}\n",
    "23 in d.values()"
   ]
  },
  {
   "cell_type": "code",
   "execution_count": 61,
   "id": "1b035afe-392a-4b51-80c0-a3b3f0fff7d6",
   "metadata": {},
   "outputs": [
    {
     "data": {
      "text/plain": [
       "9"
      ]
     },
     "execution_count": 61,
     "metadata": {},
     "output_type": "execute_result"
    }
   ],
   "source": [
    "mylist = [1,2,5,9]         ## min && Max functions\n",
    "min(mylist)\n",
    "max(mylist)"
   ]
  },
  {
   "cell_type": "code",
   "execution_count": 65,
   "id": "572c9c1c-5759-4765-b134-fb19726247d4",
   "metadata": {},
   "outputs": [
    {
     "name": "stdout",
     "output_type": "stream",
     "text": [
      "[3, 2, 5, 1]\n"
     ]
    }
   ],
   "source": [
    "from random import shuffle    ## Importing random functions\n",
    "mylist = [1,2,3,5]\n",
    "shuffle(mylist)\n",
    "print(mylist)\n"
   ]
  },
  {
   "cell_type": "code",
   "execution_count": 67,
   "id": "85321d41-b99c-4ba6-870a-fa30ce56207a",
   "metadata": {},
   "outputs": [
    {
     "name": "stdout",
     "output_type": "stream",
     "text": [
      "[3, 2, 5, 1]\n"
     ]
    }
   ],
   "source": [
    "print(mylist)"
   ]
  },
  {
   "cell_type": "code",
   "execution_count": 69,
   "id": "09fb2bcc-bc12-458b-aff0-159dd6e8edef",
   "metadata": {},
   "outputs": [
    {
     "name": "stdout",
     "output_type": "stream",
     "text": [
      "[3, 2, 5, 1]\n"
     ]
    }
   ],
   "source": [
    "print(mylist)"
   ]
  },
  {
   "cell_type": "code",
   "execution_count": 73,
   "id": "966eb9de-571e-4301-beff-2cc55f655828",
   "metadata": {},
   "outputs": [],
   "source": [
    "from random import randint \n",
    "a =randint(1,9)"
   ]
  },
  {
   "cell_type": "code",
   "execution_count": 75,
   "id": "4bf051d2-d8ad-47fb-abba-91bc77769d99",
   "metadata": {},
   "outputs": [
    {
     "data": {
      "text/plain": [
       "2"
      ]
     },
     "execution_count": 75,
     "metadata": {},
     "output_type": "execute_result"
    }
   ],
   "source": [
    "a"
   ]
  },
  {
   "cell_type": "code",
   "execution_count": 81,
   "id": "1f125511-1178-4ddc-b988-d9fc7e68e56b",
   "metadata": {},
   "outputs": [
    {
     "name": "stdin",
     "output_type": "stream",
     "text": [
      "enter number here:  100\n"
     ]
    }
   ],
   "source": [
    "result = input('enter number here: ')    ## Input function"
   ]
  },
  {
   "cell_type": "code",
   "execution_count": 83,
   "id": "14cd7b9f-686f-49e1-8257-1d5ae16d8341",
   "metadata": {},
   "outputs": [
    {
     "data": {
      "text/plain": [
       "'100'"
      ]
     },
     "execution_count": 83,
     "metadata": {},
     "output_type": "execute_result"
    }
   ],
   "source": [
    "result"
   ]
  },
  {
   "cell_type": "code",
   "execution_count": null,
   "id": "fc95e15c-c3be-44e7-9ef4-894299ce0cde",
   "metadata": {},
   "outputs": [],
   "source": []
  }
 ],
 "metadata": {
  "kernelspec": {
   "display_name": "Python 3 (ipykernel)",
   "language": "python",
   "name": "python3"
  },
  "language_info": {
   "codemirror_mode": {
    "name": "ipython",
    "version": 3
   },
   "file_extension": ".py",
   "mimetype": "text/x-python",
   "name": "python",
   "nbconvert_exporter": "python",
   "pygments_lexer": "ipython3",
   "version": "3.12.7"
  }
 },
 "nbformat": 4,
 "nbformat_minor": 5
}
