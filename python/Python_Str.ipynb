{
 "cells": [
  {
   "cell_type": "code",
   "execution_count": 10,
   "id": "e7492d33-02b5-4291-aace-e102a2ba56d7",
   "metadata": {},
   "outputs": [
    {
     "name": "stdout",
     "output_type": "stream",
     "text": [
      "Iam String\n"
     ]
    }
   ],
   "source": [
    "s = \"Iam String\"\n",
    "print (s)"
   ]
  },
  {
   "cell_type": "code",
   "execution_count": 12,
   "id": "fffbcdf6-b15c-402f-9f91-5745e30b8610",
   "metadata": {},
   "outputs": [
    {
     "name": "stdout",
     "output_type": "stream",
     "text": [
      "'Iam string', 'Lionking'\n"
     ]
    }
   ],
   "source": [
    "s =\"'Iam string', 'Lionking'\"\n",
    "print (s)"
   ]
  },
  {
   "cell_type": "code",
   "execution_count": 9,
   "id": "ad20a217-d9dd-4d15-891c-074e5074d272",
   "metadata": {},
   "outputs": [
    {
     "name": "stdout",
     "output_type": "stream",
     "text": [
      "Hello\n",
      "world\n"
     ]
    }
   ],
   "source": [
    "greet = \"hello world\"\n",
    "print( \"Hello\\nworld\" )"
   ]
  },
  {
   "cell_type": "code",
   "execution_count": 17,
   "id": "ee0024a5-d4e8-44b6-925d-56fe7391a7d5",
   "metadata": {},
   "outputs": [
    {
     "name": "stdout",
     "output_type": "stream",
     "text": [
      "Hello \t\tworld\n"
     ]
    }
   ],
   "source": [
    "print(\"Hello \\t\\tworld\")"
   ]
  },
  {
   "cell_type": "code",
   "execution_count": 21,
   "id": "9329b293-7a65-4918-be9f-962c5ebac6bf",
   "metadata": {},
   "outputs": [
    {
     "data": {
      "text/plain": [
       "11"
      ]
     },
     "execution_count": 21,
     "metadata": {},
     "output_type": "execute_result"
    }
   ],
   "source": [
    "len (greet)   # Length Function"
   ]
  },
  {
   "cell_type": "code",
   "execution_count": 27,
   "id": "45dfe020-fd63-470d-a1a4-f860960dbf72",
   "metadata": {},
   "outputs": [
    {
     "data": {
      "text/plain": [
       "'d'"
      ]
     },
     "execution_count": 27,
     "metadata": {},
     "output_type": "execute_result"
    }
   ],
   "source": [
    "#String Indexing and Slicing \n",
    "b = \"Helloworld\"\n",
    "b[2]"
   ]
  },
  {
   "cell_type": "code",
   "execution_count": 71,
   "id": "1d7345f8-e5d9-47dc-9313-9009bfa27bbd",
   "metadata": {},
   "outputs": [
    {
     "name": "stdout",
     "output_type": "stream",
     "text": [
      "abcd\n",
      "abcd\n",
      "dfh\n",
      "bcdefghi\n",
      "acegi\n",
      "ihgfedcba\n",
      "hg\n"
     ]
    }
   ],
   "source": [
    "    mystring = \"abcdefghi\"  ## Slicing\n",
    "    print(mystring[:4])\n",
    "    print(mystring[:4]) \n",
    "    print(mystring[3: :2])\n",
    "    print(mystring[1: :1])\n",
    "    print(mystring[::2])\n",
    "    print(mystring[::-1])\n",
    "    print(mystring[-2:-4:-1])"
   ]
  },
  {
   "cell_type": "code",
   "execution_count": 73,
   "id": "38dfc6ba-3080-48b0-af0c-9dd23eb22d37",
   "metadata": {},
   "outputs": [
    {
     "ename": "TypeError",
     "evalue": "'str' object does not support item assignment",
     "output_type": "error",
     "traceback": [
      "\u001b[1;31m---------------------------------------------------------------------------\u001b[0m",
      "\u001b[1;31mTypeError\u001b[0m                                 Traceback (most recent call last)",
      "Cell \u001b[1;32mIn[73], line 3\u001b[0m\n\u001b[0;32m      1\u001b[0m \u001b[38;5;66;03m## Immutability \u001b[39;00m\n\u001b[0;32m      2\u001b[0m name \u001b[38;5;241m=\u001b[39m \u001b[38;5;124m\"\u001b[39m\u001b[38;5;124mRaj\u001b[39m\u001b[38;5;124m\"\u001b[39m\n\u001b[1;32m----> 3\u001b[0m name[\u001b[38;5;241m0\u001b[39m] \u001b[38;5;241m=\u001b[39m \u001b[38;5;124m'\u001b[39m\u001b[38;5;124mp\u001b[39m\u001b[38;5;124m'\u001b[39m\n",
      "\u001b[1;31mTypeError\u001b[0m: 'str' object does not support item assignment"
     ]
    }
   ],
   "source": [
    "## Immutability \n",
    "name = \"Raj\"\n",
    "name[0] = 'p'"
   ]
  },
  {
   "cell_type": "code",
   "execution_count": 103,
   "id": "0e4091b1-f53c-45e2-8114-c561448b5223",
   "metadata": {
    "scrolled": true
   },
   "outputs": [
    {
     "data": {
      "text/plain": [
       "'Paj'"
      ]
     },
     "execution_count": 103,
     "metadata": {},
     "output_type": "execute_result"
    }
   ],
   "source": [
    "## String Concatination\n",
    "last_name = name[1:]\n",
    "\"P\"+ last_name\n"
   ]
  },
  {
   "cell_type": "code",
   "execution_count": 105,
   "id": "24241795-99f3-49fe-9e14-282852259f45",
   "metadata": {},
   "outputs": [
    {
     "name": "stdout",
     "output_type": "stream",
     "text": [
      "Helloworld\n"
     ]
    }
   ],
   "source": [
    "x = \"Helloworld\"\n",
    "print(x)"
   ]
  },
  {
   "cell_type": "code",
   "execution_count": 124,
   "id": "129af646-6f82-4d2e-80b4-a997126e248a",
   "metadata": {},
   "outputs": [
    {
     "name": "stdout",
     "output_type": "stream",
     "text": [
      "Helloworld IAM Better IAM Better IAM Better IAM Better IAM Better IAM Better IAM Better IAM Better IAM Better\n"
     ]
    }
   ],
   "source": [
    "x = x + \" IAM Better\"\n",
    "print(x)"
   ]
  },
  {
   "cell_type": "code",
   "execution_count": 146,
   "id": "6605a5ef-b7a4-4afc-a4cf-8def23751344",
   "metadata": {},
   "outputs": [
    {
     "data": {
      "text/plain": [
       "['h', 'ello Wo', 'rld']"
      ]
     },
     "execution_count": 146,
     "metadata": {},
     "output_type": "execute_result"
    }
   ],
   "source": [
    " x = \"h,ello Wo,rld\"\n",
    "x.upper()\n",
    "x.split(',')"
   ]
  },
  {
   "cell_type": "code",
   "execution_count": 140,
   "id": "37a5347d-cc78-476f-be88-a29240d0124e",
   "metadata": {},
   "outputs": [
    {
     "name": "stdout",
     "output_type": "stream",
     "text": [
      "hello World\n"
     ]
    }
   ],
   "source": [
    "print(x)"
   ]
  },
  {
   "cell_type": "code",
   "execution_count": 158,
   "id": "e1604b64-1756-47f3-8f2f-65b353fda87a",
   "metadata": {},
   "outputs": [
    {
     "name": "stdout",
     "output_type": "stream",
     "text": [
      "Avengers Assemble here Iam Tonyy \n"
     ]
    }
   ],
   "source": [
    "# String INterpolatin \n",
    "print('Avengers Assemble here {}'.format(\"Iam Tonyy \"))\n"
   ]
  },
  {
   "cell_type": "code",
   "execution_count": 170,
   "id": "cb61635a-53d6-4725-ac4c-be92c9280493",
   "metadata": {},
   "outputs": [
    {
     "name": "stdout",
     "output_type": "stream",
     "text": [
      "The fox Brown quick\n",
      "The quick Brown fox\n",
      "The fox Brown fox\n",
      "The Brown fox quick\n"
     ]
    }
   ],
   "source": [
    "print(\"The {} {} {}\".format(\"fox\", \"Brown\", \"quick\"))\n",
    "\n",
    "print(\"The {2} {1} {0}\".format(\"fox\", \"Brown\", \"quick\"))\n",
    "\n",
    "print(\"The {0} {1} {0}\".format(\"fox\", \"Brown\", \"quick\"))\n",
    "\n",
    "print(\"The {b} {f} {q}\".format(f=\"fox\", b =\"Brown\", q=\"quick\"))"
   ]
  },
  {
   "cell_type": "code",
   "execution_count": 216,
   "id": "666cfa69-fd02-4202-ba08-2268af2fcc3a",
   "metadata": {},
   "outputs": [
    {
     "name": "stdout",
     "output_type": "stream",
     "text": [
      "result is   1.2987012987012987\n",
      "result Is 1.2987012987012987\n",
      "result Is 1.30\n"
     ]
    }
   ],
   "source": [
    "# Float formatting Follows \"{value:width.precision f}\"\n",
    "result = 100/77\n",
    "print(\"result is  \", result)\n",
    "print(\"result Is {}\" .format(result))\n",
    "print(\"result Is {r:1.2f}\" .format(r= result))"
   ]
  },
  {
   "cell_type": "code",
   "execution_count": 218,
   "id": "79fbd6d2-3f32-42e6-b0d6-96bf6d1430fb",
   "metadata": {},
   "outputs": [
    {
     "name": "stdout",
     "output_type": "stream",
     "text": [
      "Sam is 4 yeeras old\n"
     ]
    }
   ],
   "source": [
    "name = \"Sam\"\n",
    "age =4\n",
    "print(f\"{name} is {age} yeeras old\" )"
   ]
  },
  {
   "cell_type": "code",
   "execution_count": 224,
   "id": "f431d29d-c6d9-4da2-986e-d46a5b6fab69",
   "metadata": {},
   "outputs": [
    {
     "ename": "SyntaxError",
     "evalue": "invalid syntax (2526929255.py, line 2)",
     "output_type": "error",
     "traceback": [
      "\u001b[1;36m  Cell \u001b[1;32mIn[224], line 2\u001b[1;36m\u001b[0m\n\u001b[1;33m    my_list = [\"IAM String\", 2, a:'Apple', 23.5]\u001b[0m\n\u001b[1;37m                                 ^\u001b[0m\n\u001b[1;31mSyntaxError\u001b[0m\u001b[1;31m:\u001b[0m invalid syntax\n"
     ]
    }
   ],
   "source": [
    "# Lists \n",
    "my_list = [\"IAM String\", 2, a:'Apple', 23.5]"
   ]
  },
  {
   "cell_type": "code",
   "execution_count": null,
   "id": "721596a1-bbad-4a71-93d4-c8eb3d9a6e6b",
   "metadata": {},
   "outputs": [],
   "source": []
  }
 ],
 "metadata": {
  "kernelspec": {
   "display_name": "Python 3 (ipykernel)",
   "language": "python",
   "name": "python3"
  },
  "language_info": {
   "codemirror_mode": {
    "name": "ipython",
    "version": 3
   },
   "file_extension": ".py",
   "mimetype": "text/x-python",
   "name": "python",
   "nbconvert_exporter": "python",
   "pygments_lexer": "ipython3",
   "version": "3.12.7"
  }
 },
 "nbformat": 4,
 "nbformat_minor": 5
}
